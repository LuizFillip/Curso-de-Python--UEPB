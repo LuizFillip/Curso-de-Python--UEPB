{
 "cells": [
  {
   "cell_type": "markdown",
   "id": "7a09a3d5",
   "metadata": {},
   "source": [
    "# Aula 1 - Fundamentos da linguagem Python \n",
    "\n"
   ]
  },
  {
   "cell_type": "markdown",
   "id": "0d41582b",
   "metadata": {},
   "source": [
    "## Strings\n",
    "\n",
    "Definição\n",
    "\n",
    "Uma string é uma sequência de caracteres (letras, números, símbolos, espaços) usada para representar texto.\n",
    "\n",
    "Em Python, strings são definidas entre aspas simples ('texto'), aspas duplas (\"texto\") ou aspas triplas ('''texto''' ou \"\"\"texto\"\"\") para múltiplas linhas.\n",
    "\n"
   ]
  },
  {
   "cell_type": "code",
   "execution_count": 9,
   "id": "0258fcc8",
   "metadata": {},
   "outputs": [],
   "source": [
    "# Strings\n",
    "\n",
    "first_name = \"Luiz\"\n",
    "last_name = 'Vital'\n",
    "phrase = 'Bem vindo ao Curso de Python!'\n",
    "paragraph = \"\"\"\n",
    "Este é um texto em várias linhas.\n",
    "\n",
    "\"\"\"\n"
   ]
  },
  {
   "cell_type": "code",
   "execution_count": 6,
   "id": "b8b7ad94",
   "metadata": {},
   "outputs": [
    {
     "name": "stdout",
     "output_type": "stream",
     "text": [
      "O que vc esuda?bolhas de plasma\n"
     ]
    }
   ],
   "source": [
    "# Interação com o usuário\n",
    "\n",
    "new_var = input('O que vc esuda? ')\n",
    "\n",
    "# Manipulação de texto\n"
   ]
  },
  {
   "cell_type": "code",
   "execution_count": 13,
   "id": "41a12d18",
   "metadata": {},
   "outputs": [
    {
     "data": {
      "text/plain": [
       "'Luiz estuda bolhas de plasma'"
      ]
     },
     "execution_count": 13,
     "metadata": {},
     "output_type": "execute_result"
    }
   ],
   "source": [
    "#concatenação \n",
    "\n",
    "first_name + ' estuda ' + new_var"
   ]
  },
  {
   "cell_type": "code",
   "execution_count": 15,
   "id": "23929e26",
   "metadata": {},
   "outputs": [
    {
     "data": {
      "text/plain": [
       "'Luiz estuda bolhas de plasma'"
      ]
     },
     "execution_count": 15,
     "metadata": {},
     "output_type": "execute_result"
    }
   ],
   "source": [
    "#formatação\n",
    "\n",
    "format_var = f'{first_name} estuda {new_var}'\n",
    "format_var "
   ]
  },
  {
   "cell_type": "code",
   "execution_count": 2,
   "id": "3b9ae82d",
   "metadata": {},
   "outputs": [
    {
     "name": "stdout",
     "output_type": "stream",
     "text": [
      "[main 5c6c342] checking for updates\n",
      " 4 files changed, 7365 insertions(+), 105528 deletions(-)\n",
      " create mode 100644 .ipynb_checkpoints/BibTexParser-checkpoint.ipynb\n",
      " delete mode 100644 2022PythonINPE.pdf\n",
      " create mode 100644 BibTexParser.ipynb\n",
      " create mode 100644 ReferencesMaster.bib\n"
     ]
    }
   ],
   "source": [
    "!git add .\n",
    "!git commit -m \"checking for updates\"\n"
   ]
  },
  {
   "cell_type": "code",
   "execution_count": 5,
   "id": "88488ccd",
   "metadata": {},
   "outputs": [
    {
     "name": "stderr",
     "output_type": "stream",
     "text": [
      "To https://github.com/LuizFillip/Curso-de-Python--UEPB.git\n",
      "   535f94b..54c8da7  main -> main\n"
     ]
    }
   ],
   "source": [
    "!git push\n"
   ]
  }
 ],
 "metadata": {
  "kernelspec": {
   "display_name": "Python 3 (ipykernel)",
   "language": "python",
   "name": "python3"
  },
  "language_info": {
   "codemirror_mode": {
    "name": "ipython",
    "version": 3
   },
   "file_extension": ".py",
   "mimetype": "text/x-python",
   "name": "python",
   "nbconvert_exporter": "python",
   "pygments_lexer": "ipython3",
   "version": "3.10.9"
  }
 },
 "nbformat": 4,
 "nbformat_minor": 5
}
