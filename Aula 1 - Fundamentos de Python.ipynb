{
 "cells": [
  {
   "cell_type": "markdown",
   "id": "7a09a3d5",
   "metadata": {},
   "source": [
    "# Aula 1 - Fundamentos da linguagem Python \n",
    "\n"
   ]
  },
  {
   "cell_type": "markdown",
   "id": "0d41582b",
   "metadata": {},
   "source": [
    "## Strings\n",
    "\n",
    "Definição\n",
    "\n",
    "Uma string é uma sequência de caracteres (letras, números, símbolos, espaços) usada para representar texto.\n",
    "\n",
    "Em Python, strings são definidas entre aspas simples ('texto'), aspas duplas (\"texto\") ou aspas triplas ('''texto''' ou \"\"\"texto\"\"\") para múltiplas linhas.\n",
    "\n"
   ]
  },
  {
   "cell_type": "code",
   "execution_count": 9,
   "id": "0258fcc8",
   "metadata": {},
   "outputs": [],
   "source": [
    "# Strings\n",
    "\n",
    "first_name = \"Luiz\"\n",
    "last_name = 'Vital'\n",
    "phrase = 'Bem vindo ao Curso de Python!'\n",
    "paragraph = \"\"\"\n",
    "Este é um texto em várias linhas.\n",
    "\n",
    "\"\"\"\n"
   ]
  },
  {
   "cell_type": "code",
   "execution_count": 6,
   "id": "b8b7ad94",
   "metadata": {},
   "outputs": [
    {
     "name": "stdout",
     "output_type": "stream",
     "text": [
      "O que vc esuda?bolhas de plasma\n"
     ]
    }
   ],
   "source": [
    "# Interação com o usuário\n",
    "\n",
    "new_var = input('O que vc esuda? ')\n",
    "\n",
    "# Manipulação de texto\n"
   ]
  },
  {
   "cell_type": "code",
   "execution_count": 13,
   "id": "41a12d18",
   "metadata": {},
   "outputs": [
    {
     "data": {
      "text/plain": [
       "'Luiz estuda bolhas de plasma'"
      ]
     },
     "execution_count": 13,
     "metadata": {},
     "output_type": "execute_result"
    }
   ],
   "source": [
    "#concatenação \n",
    "\n",
    "first_name + ' estuda ' + new_var"
   ]
  },
  {
   "cell_type": "code",
   "execution_count": 15,
   "id": "23929e26",
   "metadata": {},
   "outputs": [
    {
     "data": {
      "text/plain": [
       "'Luiz estuda bolhas de plasma'"
      ]
     },
     "execution_count": 15,
     "metadata": {},
     "output_type": "execute_result"
    }
   ],
   "source": [
    "#formatação\n",
    "\n",
    "format_var = f'{first_name} estuda {new_var}'\n",
    "format_var "
   ]
  },
  {
   "cell_type": "code",
   "execution_count": 17,
   "id": "3b9ae82d",
   "metadata": {},
   "outputs": [
    {
     "name": "stdout",
     "output_type": "stream",
     "text": [
      "Reinitialized existing Git repository in G:/My Drive/Python/.git/\n"
     ]
    },
    {
     "name": "stderr",
     "output_type": "stream",
     "text": [
      "warning: LF will be replaced by CRLF in .ipynb_checkpoints/Aula 1 - Fundamentos de Python-checkpoint.ipynb.\n",
      "The file will have its original line endings in your working directory\n",
      "warning: LF will be replaced by CRLF in Aula 1 - Fundamentos de Python.ipynb.\n",
      "The file will have its original line endings in your working directory\n",
      "warning: LF will be replaced by CRLF in data-analysis/GAIA/data/idl_562332035011_20151225_000000.eps.\n",
      "The file will have its original line endings in your working directory\n"
     ]
    }
   ],
   "source": [
    "!git init\n",
    "!git add .\n",
    "!git commit -m \"first commit\""
   ]
  }
 ],
 "metadata": {
  "kernelspec": {
   "display_name": "Python 3 (ipykernel)",
   "language": "python",
   "name": "python3"
  },
  "language_info": {
   "codemirror_mode": {
    "name": "ipython",
    "version": 3
   },
   "file_extension": ".py",
   "mimetype": "text/x-python",
   "name": "python",
   "nbconvert_exporter": "python",
   "pygments_lexer": "ipython3",
   "version": "3.10.9"
  }
 },
 "nbformat": 4,
 "nbformat_minor": 5
}
