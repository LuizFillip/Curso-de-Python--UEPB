{
 "cells": [
  {
   "cell_type": "markdown",
   "id": "423da559",
   "metadata": {},
   "source": [
    "# Pandas\n",
    "\n",
    "- Um objeto DataFrame rápido e eficiente para manipulação de dados com indexação integrada;\n",
    "\n",
    "= Ferramentas para leitura e gravação de dados entre estruturas de dados na memória e diferentes formatos: CSV e arquivos de texto, Microsoft Excel, bancos de dados SQL e o formato HDF5 rápido;\n",
    "\n",
    "Alinhamento inteligente de dados e tratamento integrado de dados ausentes: Obtenha alinhamento automático baseado em rótulos em cálculos e manipule facilmente dados confusos em um formato ordenado;\n",
    "\n",
    "Reformulação flexível e pivotagem de conjuntos de dados;\n",
    "\n",
    "Fatiamento inteligente baseado em rótulos, indexação sofisticada e subconjunto de grandes conjuntos de dados;\n",
    "\n",
    "As colunas podem ser inseridas e excluídas das estruturas de dados para tamanho Mutabilidadede;\n",
    "\n",
    "- Fusão e junção de conjuntos de dados de alta performance;\n",
    "\n",
    "A indexação de eixo hierárquico fornece uma maneira intuitiva de trabalhar com dados de alta dimensão em uma estrutura de dados de dimensão inferior;\n",
    "\n",
    "- Funcionalidade de série temporal: geração e frequência de intervalo de datas conversão, estatísticas de janela móvel, mudança de data e atraso. Até mesmo criar deslocamentos de tempo específicos do domínio e tempo de ingresso séries sem perda de dados;\n",
    "\n",
    "- Python com pandas está em uso em uma ampla variedade de acadêmicos e domínios comerciais, incluindo Finanças, Neurociência, Economia, Estatísticas, publicidade, análise da Web e muito mais."
   ]
  },
  {
   "cell_type": "code",
   "execution_count": 6,
   "id": "ba9eea81",
   "metadata": {},
   "outputs": [
    {
     "data": {
      "text/html": [
       "<div>\n",
       "<style scoped>\n",
       "    .dataframe tbody tr th:only-of-type {\n",
       "        vertical-align: middle;\n",
       "    }\n",
       "\n",
       "    .dataframe tbody tr th {\n",
       "        vertical-align: top;\n",
       "    }\n",
       "\n",
       "    .dataframe thead th {\n",
       "        text-align: right;\n",
       "    }\n",
       "</style>\n",
       "<table border=\"1\" class=\"dataframe\">\n",
       "  <thead>\n",
       "    <tr style=\"text-align: right;\">\n",
       "      <th></th>\n",
       "      <th>survived</th>\n",
       "      <th>pclass</th>\n",
       "      <th>sex</th>\n",
       "      <th>age</th>\n",
       "      <th>sibsp</th>\n",
       "      <th>parch</th>\n",
       "      <th>fare</th>\n",
       "      <th>embarked</th>\n",
       "      <th>who</th>\n",
       "      <th>adult_male</th>\n",
       "      <th>deck</th>\n",
       "      <th>embark_town</th>\n",
       "      <th>alive</th>\n",
       "      <th>alone</th>\n",
       "    </tr>\n",
       "    <tr>\n",
       "      <th>class</th>\n",
       "      <th></th>\n",
       "      <th></th>\n",
       "      <th></th>\n",
       "      <th></th>\n",
       "      <th></th>\n",
       "      <th></th>\n",
       "      <th></th>\n",
       "      <th></th>\n",
       "      <th></th>\n",
       "      <th></th>\n",
       "      <th></th>\n",
       "      <th></th>\n",
       "      <th></th>\n",
       "      <th></th>\n",
       "    </tr>\n",
       "  </thead>\n",
       "  <tbody>\n",
       "    <tr>\n",
       "      <th>First</th>\n",
       "      <td>216</td>\n",
       "      <td>216</td>\n",
       "      <td>216</td>\n",
       "      <td>186</td>\n",
       "      <td>216</td>\n",
       "      <td>216</td>\n",
       "      <td>216</td>\n",
       "      <td>214</td>\n",
       "      <td>216</td>\n",
       "      <td>216</td>\n",
       "      <td>175</td>\n",
       "      <td>214</td>\n",
       "      <td>216</td>\n",
       "      <td>216</td>\n",
       "    </tr>\n",
       "    <tr>\n",
       "      <th>Second</th>\n",
       "      <td>184</td>\n",
       "      <td>184</td>\n",
       "      <td>184</td>\n",
       "      <td>173</td>\n",
       "      <td>184</td>\n",
       "      <td>184</td>\n",
       "      <td>184</td>\n",
       "      <td>184</td>\n",
       "      <td>184</td>\n",
       "      <td>184</td>\n",
       "      <td>16</td>\n",
       "      <td>184</td>\n",
       "      <td>184</td>\n",
       "      <td>184</td>\n",
       "    </tr>\n",
       "    <tr>\n",
       "      <th>Third</th>\n",
       "      <td>491</td>\n",
       "      <td>491</td>\n",
       "      <td>491</td>\n",
       "      <td>355</td>\n",
       "      <td>491</td>\n",
       "      <td>491</td>\n",
       "      <td>491</td>\n",
       "      <td>491</td>\n",
       "      <td>491</td>\n",
       "      <td>491</td>\n",
       "      <td>12</td>\n",
       "      <td>491</td>\n",
       "      <td>491</td>\n",
       "      <td>491</td>\n",
       "    </tr>\n",
       "  </tbody>\n",
       "</table>\n",
       "</div>"
      ],
      "text/plain": [
       "        survived  pclass  sex  age  sibsp  parch  fare  embarked  who  \\\n",
       "class                                                                   \n",
       "First        216     216  216  186    216    216   216       214  216   \n",
       "Second       184     184  184  173    184    184   184       184  184   \n",
       "Third        491     491  491  355    491    491   491       491  491   \n",
       "\n",
       "        adult_male  deck  embark_town  alive  alone  \n",
       "class                                                \n",
       "First          216   175          214    216    216  \n",
       "Second         184    16          184    184    184  \n",
       "Third          491    12          491    491    491  "
      ]
     },
     "execution_count": 6,
     "metadata": {},
     "output_type": "execute_result"
    }
   ],
   "source": [
    "import pandas as pd \n",
    "import seaborn \n",
    "\n",
    "df= seaborn.load_dataset(\"titanic\")\n",
    "\n",
    "ds = df.groupby('class').count()\n",
    "ds"
   ]
  },
  {
   "cell_type": "code",
   "execution_count": 4,
   "id": "0dca04e4",
   "metadata": {},
   "outputs": [
    {
     "name": "stdout",
     "output_type": "stream",
     "text": [
      "\n",
      "\n",
      "\n"
     ]
    }
   ],
   "source": [
    "print()       # primeiras linhas\n",
    "print()       # resumo de colunas e tipos\n",
    "print()   # estatísticas descritivas (numéricas)"
   ]
  },
  {
   "cell_type": "code",
   "execution_count": 5,
   "id": "ae102b08",
   "metadata": {},
   "outputs": [],
   "source": [
    "# Coluna simples\n",
    "\n",
    "# Múltiplas colunas\n",
    "\n",
    "# Filtro de linhas (passageiros com menos de 18 anos)"
   ]
  },
  {
   "cell_type": "markdown",
   "id": "80da6cde",
   "metadata": {},
   "source": [
    "## Valores ausentes\n"
   ]
  },
  {
   "cell_type": "code",
   "execution_count": 8,
   "id": "7056057c",
   "metadata": {},
   "outputs": [
    {
     "name": "stderr",
     "output_type": "stream",
     "text": [
      "C:\\Users\\Luiz\\AppData\\Local\\Temp\\ipykernel_26768\\1757692976.py:4: FutureWarning: YF.download() has changed argument auto_adjust default to True\n",
      "  df = yf.download(\"PETR4.SA\", start=\"2000-01-01\", end=\"2023-01-01\")\n",
      "[*********************100%***********************]  1 of 1 completed"
     ]
    },
    {
     "name": "stdout",
     "output_type": "stream",
     "text": [
      "Price          Close      High       Low      Open       Volume\n",
      "Ticker      PETR4.SA  PETR4.SA  PETR4.SA  PETR4.SA     PETR4.SA\n",
      "Date                                                           \n",
      "2000-01-03  1.309280  1.309280  1.309280  1.309280  35389440000\n",
      "2000-01-04  1.236851  1.236851  1.236851  1.236851  28861440000\n",
      "2000-01-05  1.224371  1.224371  1.224371  1.224371  43033600000\n",
      "2000-01-06  1.220137  1.220137  1.220137  1.220137  34055680000\n",
      "2000-01-07  1.225708  1.225708  1.225708  1.225708  20912640000\n"
     ]
    },
    {
     "name": "stderr",
     "output_type": "stream",
     "text": [
      "\n"
     ]
    }
   ],
   "source": [
    "import yfinance as yf\n",
    "\n",
    "# Baixar dados da Petrobras\n",
    "df = yf.download(\"PETR4.SA\", start=\"2000-01-01\", end=\"2023-01-01\")\n",
    "\n",
    "print(df.head())"
   ]
  },
  {
   "cell_type": "code",
   "execution_count": 12,
   "id": "43c5c941",
   "metadata": {},
   "outputs": [
    {
     "name": "stderr",
     "output_type": "stream",
     "text": [
      "C:\\Users\\Luiz\\AppData\\Local\\Temp\\ipykernel_26768\\2500789129.py:3: FutureWarning: YF.download() has changed argument auto_adjust default to True\n",
      "  df = yf.download(['MSFT', 'AAPL', 'GOOG'], period='10y')\n",
      "[*********************100%***********************]  3 of 3 completed\n"
     ]
    }
   ],
   "source": [
    "tickers = yf.Tickers('MSFT AAPL GOOG')\n",
    "tickers.tickers['MSFT'].info\n",
    "df = yf.download(['MSFT', 'AAPL', 'GOOG'], period='10y')"
   ]
  }
 ],
 "metadata": {
  "kernelspec": {
   "display_name": "Python 3 (ipykernel)",
   "language": "python",
   "name": "python3"
  },
  "language_info": {
   "codemirror_mode": {
    "name": "ipython",
    "version": 3
   },
   "file_extension": ".py",
   "mimetype": "text/x-python",
   "name": "python",
   "nbconvert_exporter": "python",
   "pygments_lexer": "ipython3",
   "version": "3.10.9"
  }
 },
 "nbformat": 4,
 "nbformat_minor": 5
}
